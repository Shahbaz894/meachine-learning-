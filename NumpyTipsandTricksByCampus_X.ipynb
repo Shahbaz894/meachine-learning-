{
  "nbformat": 4,
  "nbformat_minor": 0,
  "metadata": {
    "colab": {
      "provenance": [],
      "authorship_tag": "ABX9TyOBK/P+J0qoS8T0GBtFxzwm",
      "include_colab_link": true
    },
    "kernelspec": {
      "name": "python3",
      "display_name": "Python 3"
    },
    "language_info": {
      "name": "python"
    }
  },
  "cells": [
    {
      "cell_type": "markdown",
      "metadata": {
        "id": "view-in-github",
        "colab_type": "text"
      },
      "source": [
        "<a href=\"https://colab.research.google.com/github/Shahbaz894/meachine-learning-/blob/main/NumpyTipsandTricksByCampus_X.ipynb\" target=\"_parent\"><img src=\"https://colab.research.google.com/assets/colab-badge.svg\" alt=\"Open In Colab\"/></a>"
      ]
    },
    {
      "cell_type": "markdown",
      "source": [
        "np.sort\n",
        "returen a sorted array"
      ],
      "metadata": {
        "id": "KiEBpUPFbS7x"
      }
    },
    {
      "cell_type": "code",
      "execution_count": null,
      "metadata": {
        "colab": {
          "base_uri": "https://localhost:8080/"
        },
        "id": "STHP3G0tXdlq",
        "outputId": "f58f808e-d97e-4c9e-88a4-361099d8b7d2"
      },
      "outputs": [
        {
          "output_type": "execute_result",
          "data": {
            "text/plain": [
              "array([72, 28, 14, 87, 33, 98, 57, 89, 83, 80, 42, 93, 90, 43, 71])"
            ]
          },
          "metadata": {},
          "execution_count": 1
        }
      ],
      "source": [
        " # code\n",
        "import numpy as np\n",
        "a = np.random.randint(1,100,15)\n",
        "a"
      ]
    },
    {
      "cell_type": "code",
      "source": [
        "np.sort(a)[::-1]"
      ],
      "metadata": {
        "colab": {
          "base_uri": "https://localhost:8080/"
        },
        "id": "yFtxmwWMba_Y",
        "outputId": "bf753620-d844-4489-e7ef-2f6351a55f06"
      },
      "execution_count": null,
      "outputs": [
        {
          "output_type": "execute_result",
          "data": {
            "text/plain": [
              "array([98, 93, 90, 89, 87, 83, 80, 72, 71, 57, 43, 42, 33, 28, 14])"
            ]
          },
          "metadata": {},
          "execution_count": 2
        }
      ]
    },
    {
      "cell_type": "code",
      "source": [
        "np.sort(a)"
      ],
      "metadata": {
        "colab": {
          "base_uri": "https://localhost:8080/"
        },
        "id": "roF8jT8hbhIm",
        "outputId": "bb7b8d28-77ad-41e8-d1ad-940aff82f048"
      },
      "execution_count": null,
      "outputs": [
        {
          "output_type": "execute_result",
          "data": {
            "text/plain": [
              "array([14, 28, 33, 42, 43, 57, 71, 72, 80, 83, 87, 89, 90, 93, 98])"
            ]
          },
          "metadata": {},
          "execution_count": 3
        }
      ]
    },
    {
      "cell_type": "code",
      "source": [
        "b = np.random.randint(1,100,24).reshape(6,4)\n",
        "\n",
        "np.sort(b,axis=0)"
      ],
      "metadata": {
        "colab": {
          "base_uri": "https://localhost:8080/"
        },
        "id": "7RN_KsbcbsGD",
        "outputId": "4aefca06-a1c8-41e1-8667-87559957d1eb"
      },
      "execution_count": null,
      "outputs": [
        {
          "output_type": "execute_result",
          "data": {
            "text/plain": [
              "array([[ 1, 19, 10,  6],\n",
              "       [56, 45, 15,  7],\n",
              "       [78, 49, 32, 44],\n",
              "       [80, 56, 36, 48],\n",
              "       [85, 76, 64, 51],\n",
              "       [89, 89, 90, 86]])"
            ]
          },
          "metadata": {},
          "execution_count": 6
        }
      ]
    },
    {
      "cell_type": "markdown",
      "source": [
        "## np.append\n",
        "The numpy.append() appends values along the mentioned axis at the end of the array"
      ],
      "metadata": {
        "id": "KLBPKGGpcs8g"
      }
    },
    {
      "cell_type": "code",
      "source": [
        "np.append(a,200)"
      ],
      "metadata": {
        "colab": {
          "base_uri": "https://localhost:8080/"
        },
        "id": "DQ7rKWpmcLXg",
        "outputId": "f7c422a3-962f-4bb7-df57-afbaaa4f035c"
      },
      "execution_count": null,
      "outputs": [
        {
          "output_type": "execute_result",
          "data": {
            "text/plain": [
              "array([ 72,  28,  14,  87,  33,  98,  57,  89,  83,  80,  42,  93,  90,\n",
              "        43,  71, 200])"
            ]
          },
          "metadata": {},
          "execution_count": 7
        }
      ]
    },
    {
      "cell_type": "code",
      "source": [
        "b=np.append(b,np.ones((b.shape[0],1)),axis=1)\n",
        "b"
      ],
      "metadata": {
        "colab": {
          "base_uri": "https://localhost:8080/"
        },
        "id": "azj_6xalczbJ",
        "outputId": "226b1f9c-c3f9-4e62-acbc-28293de21210"
      },
      "execution_count": null,
      "outputs": [
        {
          "output_type": "execute_result",
          "data": {
            "text/plain": [
              "array([[89., 56., 10., 48.,  1.,  1.],\n",
              "       [56., 76., 90.,  6.,  1.,  1.],\n",
              "       [ 1., 45., 15., 51.,  1.,  1.],\n",
              "       [80., 89., 36.,  7.,  1.,  1.],\n",
              "       [85., 19., 64., 86.,  1.,  1.],\n",
              "       [78., 49., 32., 44.,  1.,  1.]])"
            ]
          },
          "metadata": {},
          "execution_count": 9
        }
      ]
    },
    {
      "cell_type": "code",
      "source": [
        "c=np.arange(24).reshape(4,6)\n",
        "\n",
        "c"
      ],
      "metadata": {
        "colab": {
          "base_uri": "https://localhost:8080/"
        },
        "id": "8Qh-fARHdk-l",
        "outputId": "aa75591d-08ef-4578-92d6-ba86c03c0f2e"
      },
      "execution_count": null,
      "outputs": [
        {
          "output_type": "execute_result",
          "data": {
            "text/plain": [
              "array([[ 0,  1,  2,  3,  4,  5],\n",
              "       [ 6,  7,  8,  9, 10, 11],\n",
              "       [12, 13, 14, 15, 16, 17],\n",
              "       [18, 19, 20, 21, 22, 23]])"
            ]
          },
          "metadata": {},
          "execution_count": 14
        }
      ]
    },
    {
      "cell_type": "markdown",
      "source": [
        "## np.concatenate\n",
        "numpy.concatenate() function concatenate a sequence of arrays along an existing axis."
      ],
      "metadata": {
        "id": "1sAxILUTejNx"
      }
    },
    {
      "cell_type": "code",
      "source": [
        "a=np.arange(20).reshape(4,5)\n",
        "b=np.arange(20).reshape(4,5)\n",
        "print(a)\n",
        "print(b)"
      ],
      "metadata": {
        "colab": {
          "base_uri": "https://localhost:8080/"
        },
        "id": "DO5T-YZDd1Kc",
        "outputId": "032b709d-9e2a-46b6-def1-c3f3899be7bd"
      },
      "execution_count": null,
      "outputs": [
        {
          "output_type": "stream",
          "name": "stdout",
          "text": [
            "[[ 0  1  2  3  4]\n",
            " [ 5  6  7  8  9]\n",
            " [10 11 12 13 14]\n",
            " [15 16 17 18 19]]\n",
            "[[ 0  1  2  3  4]\n",
            " [ 5  6  7  8  9]\n",
            " [10 11 12 13 14]\n",
            " [15 16 17 18 19]]\n"
          ]
        }
      ]
    },
    {
      "cell_type": "code",
      "source": [
        "np.concatenate((a,b),axis=0)"
      ],
      "metadata": {
        "colab": {
          "base_uri": "https://localhost:8080/"
        },
        "id": "Bzxp4dP0eyHp",
        "outputId": "74ed04c1-fe95-458b-a688-6d0aa454ae23"
      },
      "execution_count": null,
      "outputs": [
        {
          "output_type": "execute_result",
          "data": {
            "text/plain": [
              "array([[ 0,  1,  2,  3,  4],\n",
              "       [ 5,  6,  7,  8,  9],\n",
              "       [10, 11, 12, 13, 14],\n",
              "       [15, 16, 17, 18, 19],\n",
              "       [ 0,  1,  2,  3,  4],\n",
              "       [ 5,  6,  7,  8,  9],\n",
              "       [10, 11, 12, 13, 14],\n",
              "       [15, 16, 17, 18, 19]])"
            ]
          },
          "metadata": {},
          "execution_count": 18
        }
      ]
    },
    {
      "cell_type": "markdown",
      "source": [
        "## np.unique\n",
        "With the help of np.unique() method, we can get the unique values from an array given as parameter in np.unique() method."
      ],
      "metadata": {
        "id": "vqREU8BSfipx"
      }
    },
    {
      "cell_type": "code",
      "source": [
        "# code\n",
        "e = np.array([1,1,2,2,3,3,4,4,5,5,6,6])"
      ],
      "metadata": {
        "id": "9T07_YoFfSKc"
      },
      "execution_count": null,
      "outputs": []
    },
    {
      "cell_type": "code",
      "source": [
        "np.unique(e)"
      ],
      "metadata": {
        "colab": {
          "base_uri": "https://localhost:8080/"
        },
        "id": "vrsXnvjyfrmW",
        "outputId": "009ff924-dffc-40ae-cb44-2f3c4279494e"
      },
      "execution_count": null,
      "outputs": [
        {
          "output_type": "execute_result",
          "data": {
            "text/plain": [
              "array([1, 2, 3, 4, 5, 6])"
            ]
          },
          "metadata": {},
          "execution_count": 20
        }
      ]
    },
    {
      "cell_type": "markdown",
      "source": [
        "# Expand Dimension\n",
        "With the help of Numpy.expand_dims() method, we can get the expanded dimensions of an array"
      ],
      "metadata": {
        "id": "7mBK981Hf7o5"
      }
    },
    {
      "cell_type": "code",
      "source": [
        "# code\n",
        "a.shape"
      ],
      "metadata": {
        "colab": {
          "base_uri": "https://localhost:8080/"
        },
        "id": "FddStugWfurp",
        "outputId": "7a7085f3-7e13-439b-de43-b5bbda70c653"
      },
      "execution_count": null,
      "outputs": [
        {
          "output_type": "execute_result",
          "data": {
            "text/plain": [
              "(4, 5)"
            ]
          },
          "metadata": {},
          "execution_count": 21
        }
      ]
    },
    {
      "cell_type": "code",
      "source": [
        "np.expand_dims(a,axis=1).shape"
      ],
      "metadata": {
        "colab": {
          "base_uri": "https://localhost:8080/"
        },
        "id": "6k1w-jVxgZQs",
        "outputId": "cf2b260f-2d06-4ce6-a6db-bf90152b6138"
      },
      "execution_count": null,
      "outputs": [
        {
          "output_type": "execute_result",
          "data": {
            "text/plain": [
              "(4, 1, 5)"
            ]
          },
          "metadata": {},
          "execution_count": 23
        }
      ]
    },
    {
      "cell_type": "code",
      "source": [
        "a.shape"
      ],
      "metadata": {
        "colab": {
          "base_uri": "https://localhost:8080/"
        },
        "id": "_--ES5c7hhSR",
        "outputId": "0f2c7279-3045-4809-c70a-b105fa79aa02"
      },
      "execution_count": null,
      "outputs": [
        {
          "output_type": "execute_result",
          "data": {
            "text/plain": [
              "(4, 5)"
            ]
          },
          "metadata": {},
          "execution_count": 26
        }
      ]
    },
    {
      "cell_type": "code",
      "source": [
        "np.expand_dims(a,axis=0).shape"
      ],
      "metadata": {
        "colab": {
          "base_uri": "https://localhost:8080/"
        },
        "id": "OV_GsC_ugdvm",
        "outputId": "cc8d8520-0074-4a7d-f79c-4fa168332f7b"
      },
      "execution_count": null,
      "outputs": [
        {
          "output_type": "execute_result",
          "data": {
            "text/plain": [
              "(1, 4, 5)"
            ]
          },
          "metadata": {},
          "execution_count": 24
        }
      ]
    },
    {
      "cell_type": "markdown",
      "source": [
        "## np.where\n",
        "The numpy.where() function returns the indices of elements in an input array where the given condition is satisfied."
      ],
      "metadata": {
        "id": "5RWIS3plipsT"
      }
    },
    {
      "cell_type": "code",
      "source": [
        "a=np.arange(180)"
      ],
      "metadata": {
        "id": "gYq6zXYJhbOv"
      },
      "execution_count": null,
      "outputs": []
    },
    {
      "cell_type": "code",
      "source": [
        "# find all indices with value greater than 50\n",
        "\n",
        "np.where(a>50)"
      ],
      "metadata": {
        "colab": {
          "base_uri": "https://localhost:8080/"
        },
        "id": "-yyNurOUiy6u",
        "outputId": "dcbdaba9-ee4c-48ee-bb46-c6dad576cbcd"
      },
      "execution_count": null,
      "outputs": [
        {
          "output_type": "execute_result",
          "data": {
            "text/plain": [
              "(array([ 51,  52,  53,  54,  55,  56,  57,  58,  59,  60,  61,  62,  63,\n",
              "         64,  65,  66,  67,  68,  69,  70,  71,  72,  73,  74,  75,  76,\n",
              "         77,  78,  79,  80,  81,  82,  83,  84,  85,  86,  87,  88,  89,\n",
              "         90,  91,  92,  93,  94,  95,  96,  97,  98,  99, 100, 101, 102,\n",
              "        103, 104, 105, 106, 107, 108, 109, 110, 111, 112, 113, 114, 115,\n",
              "        116, 117, 118, 119, 120, 121, 122, 123, 124, 125, 126, 127, 128,\n",
              "        129, 130, 131, 132, 133, 134, 135, 136, 137, 138, 139, 140, 141,\n",
              "        142, 143, 144, 145, 146, 147, 148, 149, 150, 151, 152, 153, 154,\n",
              "        155, 156, 157, 158, 159, 160, 161, 162, 163, 164, 165, 166, 167,\n",
              "        168, 169, 170, 171, 172, 173, 174, 175, 176, 177, 178, 179]),)"
            ]
          },
          "metadata": {},
          "execution_count": 29
        }
      ]
    },
    {
      "cell_type": "code",
      "source": [
        "# replace all values > 50 with 0\n",
        "#np.where(condition,true,false)\n",
        "np.where(a>50,0,a)"
      ],
      "metadata": {
        "colab": {
          "base_uri": "https://localhost:8080/"
        },
        "id": "Kywk9_L0i44Q",
        "outputId": "357858c5-8153-4b7a-c3e1-5214fd5c81d0"
      },
      "execution_count": null,
      "outputs": [
        {
          "output_type": "execute_result",
          "data": {
            "text/plain": [
              "array([ 0,  1,  2,  3,  4,  5,  6,  7,  8,  9, 10, 11, 12, 13, 14, 15, 16,\n",
              "       17, 18, 19, 20, 21, 22, 23, 24, 25, 26, 27, 28, 29, 30, 31, 32, 33,\n",
              "       34, 35, 36, 37, 38, 39, 40, 41, 42, 43, 44, 45, 46, 47, 48, 49, 50,\n",
              "        0,  0,  0,  0,  0,  0,  0,  0,  0,  0,  0,  0,  0,  0,  0,  0,  0,\n",
              "        0,  0,  0,  0,  0,  0,  0,  0,  0,  0,  0,  0,  0,  0,  0,  0,  0,\n",
              "        0,  0,  0,  0,  0,  0,  0,  0,  0,  0,  0,  0,  0,  0,  0,  0,  0,\n",
              "        0,  0,  0,  0,  0,  0,  0,  0,  0,  0,  0,  0,  0,  0,  0,  0,  0,\n",
              "        0,  0,  0,  0,  0,  0,  0,  0,  0,  0,  0,  0,  0,  0,  0,  0,  0,\n",
              "        0,  0,  0,  0,  0,  0,  0,  0,  0,  0,  0,  0,  0,  0,  0,  0,  0,\n",
              "        0,  0,  0,  0,  0,  0,  0,  0,  0,  0,  0,  0,  0,  0,  0,  0,  0,\n",
              "        0,  0,  0,  0,  0,  0,  0,  0,  0,  0])"
            ]
          },
          "metadata": {},
          "execution_count": 30
        }
      ]
    },
    {
      "cell_type": "markdown",
      "source": [
        "## np.argmax\n",
        "The numpy.argmax() function returns indices of the max element of the array in a particular axis."
      ],
      "metadata": {
        "id": "eiACU3AwlJ2S"
      }
    },
    {
      "cell_type": "code",
      "source": [
        "a"
      ],
      "metadata": {
        "colab": {
          "base_uri": "https://localhost:8080/"
        },
        "id": "-x-0xVLgjBGJ",
        "outputId": "04f34bc5-481f-4eea-fcad-08f82791386e"
      },
      "execution_count": null,
      "outputs": [
        {
          "output_type": "execute_result",
          "data": {
            "text/plain": [
              "array([  0,   1,   2,   3,   4,   5,   6,   7,   8,   9,  10,  11,  12,\n",
              "        13,  14,  15,  16,  17,  18,  19,  20,  21,  22,  23,  24,  25,\n",
              "        26,  27,  28,  29,  30,  31,  32,  33,  34,  35,  36,  37,  38,\n",
              "        39,  40,  41,  42,  43,  44,  45,  46,  47,  48,  49,  50,  51,\n",
              "        52,  53,  54,  55,  56,  57,  58,  59,  60,  61,  62,  63,  64,\n",
              "        65,  66,  67,  68,  69,  70,  71,  72,  73,  74,  75,  76,  77,\n",
              "        78,  79,  80,  81,  82,  83,  84,  85,  86,  87,  88,  89,  90,\n",
              "        91,  92,  93,  94,  95,  96,  97,  98,  99, 100, 101, 102, 103,\n",
              "       104, 105, 106, 107, 108, 109, 110, 111, 112, 113, 114, 115, 116,\n",
              "       117, 118, 119, 120, 121, 122, 123, 124, 125, 126, 127, 128, 129,\n",
              "       130, 131, 132, 133, 134, 135, 136, 137, 138, 139, 140, 141, 142,\n",
              "       143, 144, 145, 146, 147, 148, 149, 150, 151, 152, 153, 154, 155,\n",
              "       156, 157, 158, 159, 160, 161, 162, 163, 164, 165, 166, 167, 168,\n",
              "       169, 170, 171, 172, 173, 174, 175, 176, 177, 178, 179])"
            ]
          },
          "metadata": {},
          "execution_count": 31
        }
      ]
    },
    {
      "cell_type": "code",
      "source": [
        "np.argmax(a)"
      ],
      "metadata": {
        "colab": {
          "base_uri": "https://localhost:8080/"
        },
        "id": "qRrHXSvMleBO",
        "outputId": "da087a94-e4a0-43e7-d169-a424d8ad43ac"
      },
      "execution_count": null,
      "outputs": [
        {
          "output_type": "execute_result",
          "data": {
            "text/plain": [
              "179"
            ]
          },
          "metadata": {},
          "execution_count": 32
        }
      ]
    },
    {
      "cell_type": "code",
      "source": [
        "b=np.random.randint(1,100,50)\n",
        "b"
      ],
      "metadata": {
        "colab": {
          "base_uri": "https://localhost:8080/"
        },
        "id": "k2Y0SQPiljI3",
        "outputId": "c9884d57-5226-4c4c-cd75-d86c2191d35d"
      },
      "execution_count": null,
      "outputs": [
        {
          "output_type": "execute_result",
          "data": {
            "text/plain": [
              "array([95, 52, 35, 47, 13, 55, 76,  6,  9, 28, 10,  8, 55, 39, 50,  3, 54,\n",
              "       55, 25, 50, 59, 99, 58, 23,  6, 61, 19, 93, 61, 78, 48, 63, 61, 52,\n",
              "        8, 92, 10, 87, 63, 27,  9, 73, 45, 16, 50, 82, 76, 32, 88, 76])"
            ]
          },
          "metadata": {},
          "execution_count": 37
        }
      ]
    },
    {
      "cell_type": "code",
      "source": [
        "np.argmax(b)"
      ],
      "metadata": {
        "colab": {
          "base_uri": "https://localhost:8080/"
        },
        "id": "4W7VwFhLlrCN",
        "outputId": "9af358a5-865f-4ce3-97de-968046d30921"
      },
      "execution_count": null,
      "outputs": [
        {
          "output_type": "execute_result",
          "data": {
            "text/plain": [
              "21"
            ]
          },
          "metadata": {},
          "execution_count": 38
        }
      ]
    },
    {
      "cell_type": "code",
      "source": [
        "np.argmin(b)"
      ],
      "metadata": {
        "colab": {
          "base_uri": "https://localhost:8080/"
        },
        "id": "XWbk5qu3l9AV",
        "outputId": "381e2a0f-a9e9-45ed-e515-2ce022657511"
      },
      "execution_count": null,
      "outputs": [
        {
          "output_type": "execute_result",
          "data": {
            "text/plain": [
              "15"
            ]
          },
          "metadata": {},
          "execution_count": 39
        }
      ]
    },
    {
      "cell_type": "markdown",
      "source": [
        "## np.cumsum\n",
        "numpy.cumsum() function is used when we want to compute the cumulative sum of array elements over a given axis."
      ],
      "metadata": {
        "id": "9OiHSxyzmiXs"
      }
    },
    {
      "cell_type": "code",
      "source": [
        "b"
      ],
      "metadata": {
        "colab": {
          "base_uri": "https://localhost:8080/"
        },
        "id": "ka-XDGXUmbbJ",
        "outputId": "7e7857ba-4dc4-4e73-a7c6-2cfededb9383"
      },
      "execution_count": null,
      "outputs": [
        {
          "output_type": "execute_result",
          "data": {
            "text/plain": [
              "array([95, 52, 35, 47, 13, 55, 76,  6,  9, 28, 10,  8, 55, 39, 50,  3, 54,\n",
              "       55, 25, 50, 59, 99, 58, 23,  6, 61, 19, 93, 61, 78, 48, 63, 61, 52,\n",
              "        8, 92, 10, 87, 63, 27,  9, 73, 45, 16, 50, 82, 76, 32, 88, 76])"
            ]
          },
          "metadata": {},
          "execution_count": 40
        }
      ]
    },
    {
      "cell_type": "code",
      "source": [
        "np.cumsum(b)"
      ],
      "metadata": {
        "colab": {
          "base_uri": "https://localhost:8080/"
        },
        "id": "qKl2QtvZns6q",
        "outputId": "25fb3818-2e73-4049-d0f7-ef911de8148f"
      },
      "execution_count": null,
      "outputs": [
        {
          "output_type": "execute_result",
          "data": {
            "text/plain": [
              "array([  95,  147,  182,  229,  242,  297,  373,  379,  388,  416,  426,\n",
              "        434,  489,  528,  578,  581,  635,  690,  715,  765,  824,  923,\n",
              "        981, 1004, 1010, 1071, 1090, 1183, 1244, 1322, 1370, 1433, 1494,\n",
              "       1546, 1554, 1646, 1656, 1743, 1806, 1833, 1842, 1915, 1960, 1976,\n",
              "       2026, 2108, 2184, 2216, 2304, 2380])"
            ]
          },
          "metadata": {},
          "execution_count": 41
        }
      ]
    },
    {
      "cell_type": "code",
      "source": [
        "c=np.arange(24).reshape(4,6)\n",
        "c"
      ],
      "metadata": {
        "colab": {
          "base_uri": "https://localhost:8080/"
        },
        "id": "aHq-mCFcnwW5",
        "outputId": "109a24ee-22d7-4f98-f4ae-8514d9e37733"
      },
      "execution_count": null,
      "outputs": [
        {
          "output_type": "execute_result",
          "data": {
            "text/plain": [
              "array([[ 0,  1,  2,  3,  4,  5],\n",
              "       [ 6,  7,  8,  9, 10, 11],\n",
              "       [12, 13, 14, 15, 16, 17],\n",
              "       [18, 19, 20, 21, 22, 23]])"
            ]
          },
          "metadata": {},
          "execution_count": 45
        }
      ]
    },
    {
      "cell_type": "code",
      "source": [
        "np.cumsum(c,axis=0)"
      ],
      "metadata": {
        "colab": {
          "base_uri": "https://localhost:8080/"
        },
        "id": "0R-XvPVFoEIR",
        "outputId": "c7803023-edd0-4c21-96b1-77f6c6014ce6"
      },
      "execution_count": null,
      "outputs": [
        {
          "output_type": "execute_result",
          "data": {
            "text/plain": [
              "array([[ 0,  1,  2,  3,  4,  5],\n",
              "       [ 6,  8, 10, 12, 14, 16],\n",
              "       [18, 21, 24, 27, 30, 33],\n",
              "       [36, 40, 44, 48, 52, 56]])"
            ]
          },
          "metadata": {},
          "execution_count": 46
        }
      ]
    },
    {
      "cell_type": "markdown",
      "source": [
        "## np.percentile\n",
        "numpy.percentile()function used to compute the nth percentile of the given data (array elements) along the specified axis."
      ],
      "metadata": {
        "id": "bmPzJaJPou-q"
      }
    },
    {
      "cell_type": "code",
      "source": [
        "b\n"
      ],
      "metadata": {
        "colab": {
          "base_uri": "https://localhost:8080/"
        },
        "id": "O0dvOtfFoXar",
        "outputId": "bfc2d742-f5c1-4811-90a1-17d04b1a9f3a"
      },
      "execution_count": null,
      "outputs": [
        {
          "output_type": "execute_result",
          "data": {
            "text/plain": [
              "array([95, 52, 35, 47, 13, 55, 76,  6,  9, 28, 10,  8, 55, 39, 50,  3, 54,\n",
              "       55, 25, 50, 59, 99, 58, 23,  6, 61, 19, 93, 61, 78, 48, 63, 61, 52,\n",
              "        8, 92, 10, 87, 63, 27,  9, 73, 45, 16, 50, 82, 76, 32, 88, 76])"
            ]
          },
          "metadata": {},
          "execution_count": 47
        }
      ]
    },
    {
      "cell_type": "code",
      "source": [],
      "metadata": {
        "id": "TSBbWC8Ro4ns"
      },
      "execution_count": null,
      "outputs": []
    }
  ]
}