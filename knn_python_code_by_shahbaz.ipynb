{
  "nbformat": 4,
  "nbformat_minor": 0,
  "metadata": {
    "colab": {
      "provenance": [],
      "authorship_tag": "ABX9TyO0WRMHu2/LVjgQhFXQJYvh",
      "include_colab_link": true
    },
    "kernelspec": {
      "name": "python3",
      "display_name": "Python 3"
    },
    "language_info": {
      "name": "python"
    }
  },
  "cells": [
    {
      "cell_type": "markdown",
      "metadata": {
        "id": "view-in-github",
        "colab_type": "text"
      },
      "source": [
        "<a href=\"https://colab.research.google.com/github/Shahbaz894/meachine-learning-/blob/main/knn_python_code_by_shahbaz.ipynb\" target=\"_parent\"><img src=\"https://colab.research.google.com/assets/colab-badge.svg\" alt=\"Open In Colab\"/></a>"
      ]
    },
    {
      "cell_type": "code",
      "execution_count": 1,
      "metadata": {
        "id": "TntQuX1LpX5D"
      },
      "outputs": [],
      "source": [
        "import numpy as np\n",
        "from collections import Counter\n",
        "\n",
        "class Knn:\n",
        "\n",
        "    def __init__(self,k=5):\n",
        "        self.n_neighbors = k\n",
        "        self.X_train = None\n",
        "        self.y_train = None\n",
        "\n",
        "    def fit(self,X_train,y_train):\n",
        "        self.X_train = X_train\n",
        "        self.y_train = y_train\n",
        "\n",
        "    def predict(self,X_test):\n",
        "\n",
        "        y_pred = []\n",
        "\n",
        "        for i in X_test:\n",
        "            # calculate distance with each training point\n",
        "            distances = []\n",
        "            for j in self.X_train:\n",
        "                distances.append(self.calculate_distance(i,j))\n",
        "            n_neighbors = sorted(list(enumerate(distances)),key=lambda x:x[1])[0:self.n_neighbors]\n",
        "            label = self.majority_count(n_neighbors)\n",
        "            y_pred.append(label)\n",
        "        return np.array(y_pred)\n",
        "\n",
        "\n",
        "    def calculate_distance(self,point_A,point_B):\n",
        "        return np.linalg.norm(point_A - point_B)\n",
        "\n",
        "    def majority_count(self,neighbors):\n",
        "        votes = []\n",
        "        for i in neighbors:\n",
        "            votes.append(self.y_train[i[0]])\n",
        "        votes = Counter(votes)\n",
        "\n",
        "        return votes.most_common()[0][0]"
      ]
    },
    {
      "cell_type": "code",
      "source": [
        "import pandas as pd\n",
        "import numpy as np\n",
        "from sklearn.preprocessing import LabelEncoder\n",
        "from sklearn.preprocessing import StandardScaler\n",
        "from sklearn.model_selection import train_test_split\n",
        "from sklearn.neighbors import KNeighborsClassifier\n",
        "from sklearn.metrics import accuracy_score\n",
        "from sklearn.neighbors import KNeighborsClassifier\n",
        "\n",
        "df = pd.read_csv('/content/Social_Network_Ads.csv')\n",
        "\n",
        "df = df.iloc[:,1:]\n",
        "encoder = LabelEncoder()\n",
        "df['Gender'] = encoder.fit_transform(df['Gender'])\n",
        "scaler = StandardScaler()\n",
        "\n",
        "X = df.iloc[:,0:3].values\n",
        "X = scaler.fit_transform(X)\n",
        "y = df.iloc[:,-1].values\n",
        "\n",
        "X_train,X_test,y_train,y_test = train_test_split(X,y,test_size=0.2,random_state=10)\n",
        "\n",
        "knn = KNeighborsClassifier(n_neighbors=5)\n",
        "\n",
        "knn.fit(X_train,y_train)\n",
        "\n",
        "y_pred = knn.predict(X_test)\n",
        "\n",
        "print(X_test.shape)\n",
        "print(X_train.shape)\n",
        "\n",
        "print(accuracy_score(y_test,y_pred))\n",
        "\n",
        "apnaKnn = Knn(k=5)\n",
        "\n",
        "apnaKnn.fit(X_train,y_train)\n",
        "y_pred1 = apnaKnn.predict(X_test)\n",
        "print(accuracy_score(y_test,y_pred1))"
      ],
      "metadata": {
        "colab": {
          "base_uri": "https://localhost:8080/"
        },
        "id": "TlYKNyeEpv53",
        "outputId": "3bbba354-c5f9-4c32-b9b2-7bbaea6b96b9"
      },
      "execution_count": 2,
      "outputs": [
        {
          "output_type": "stream",
          "name": "stdout",
          "text": [
            "(80, 3)\n",
            "(320, 3)\n",
            "0.925\n",
            "0.925\n"
          ]
        }
      ]
    }
  ]
}